{
 "cells": [
  {
   "cell_type": "code",
   "execution_count": 8,
   "id": "b14d8acb",
   "metadata": {},
   "outputs": [
    {
     "name": "stdout",
     "output_type": "stream",
     "text": [
      "Requirement already satisfied: pandas_datareader in c:\\users\\aniru\\anaconda3\\lib\\site-packages (0.10.0)\n",
      "Requirement already satisfied: pandas>=0.23 in c:\\users\\aniru\\anaconda3\\lib\\site-packages (from pandas_datareader) (1.3.4)\n",
      "Requirement already satisfied: requests>=2.19.0 in c:\\users\\aniru\\anaconda3\\lib\\site-packages (from pandas_datareader) (2.26.0)\n",
      "Requirement already satisfied: lxml in c:\\users\\aniru\\anaconda3\\lib\\site-packages (from pandas_datareader) (4.6.3)\n",
      "Requirement already satisfied: pytz>=2017.3 in c:\\users\\aniru\\anaconda3\\lib\\site-packages (from pandas>=0.23->pandas_datareader) (2021.3)\n",
      "Requirement already satisfied: python-dateutil>=2.7.3 in c:\\users\\aniru\\anaconda3\\lib\\site-packages (from pandas>=0.23->pandas_datareader) (2.8.2)\n",
      "Requirement already satisfied: numpy>=1.17.3 in c:\\users\\aniru\\anaconda3\\lib\\site-packages (from pandas>=0.23->pandas_datareader) (1.20.3)\n",
      "Requirement already satisfied: six>=1.5 in c:\\users\\aniru\\anaconda3\\lib\\site-packages (from python-dateutil>=2.7.3->pandas>=0.23->pandas_datareader) (1.16.0)\n",
      "Requirement already satisfied: charset-normalizer~=2.0.0 in c:\\users\\aniru\\anaconda3\\lib\\site-packages (from requests>=2.19.0->pandas_datareader) (2.0.4)\n",
      "Requirement already satisfied: idna<4,>=2.5 in c:\\users\\aniru\\anaconda3\\lib\\site-packages (from requests>=2.19.0->pandas_datareader) (3.2)\n",
      "Requirement already satisfied: certifi>=2017.4.17 in c:\\users\\aniru\\anaconda3\\lib\\site-packages (from requests>=2.19.0->pandas_datareader) (2021.10.8)\n",
      "Requirement already satisfied: urllib3<1.27,>=1.21.1 in c:\\users\\aniru\\anaconda3\\lib\\site-packages (from requests>=2.19.0->pandas_datareader) (1.26.7)\n"
     ]
    }
   ],
   "source": [
    "!pip install pandas_datareader"
   ]
  },
  {
   "cell_type": "code",
   "execution_count": 9,
   "id": "5040df1a",
   "metadata": {},
   "outputs": [],
   "source": [
    "import pandas as pd\n",
    "from pandas import Series,DataFrame\n",
    "import numpy as np\n",
    "\n",
    "#!pip install --upgrade pandas\n",
    "#!pip install --upgrade pandas-datareader\n",
    "\n",
    "import matplotlib.pyplot as plt\n",
    "from matplotlib.pyplot import subplots\n",
    "\n",
    "import seaborn as sns\n",
    "sns.set_style('whitegrid')\n",
    "%matplotlib inline\n",
    "\n",
    "import pandas_datareader.data as web\n",
    "from datetime import datetime\n"
   ]
  },
  {
   "cell_type": "code",
   "execution_count": 10,
   "id": "baf75ab0",
   "metadata": {},
   "outputs": [],
   "source": [
    "tech_list=['AAPL','GOOG','MSFT','AMZN']"
   ]
  },
  {
   "cell_type": "code",
   "execution_count": 11,
   "id": "3e93805d",
   "metadata": {},
   "outputs": [],
   "source": [
    "end=datetime.now()"
   ]
  },
  {
   "cell_type": "code",
   "execution_count": 12,
   "id": "c7e9561d",
   "metadata": {},
   "outputs": [],
   "source": [
    "start= datetime(end.year-1,end.month,end.day)"
   ]
  },
  {
   "cell_type": "code",
   "execution_count": 13,
   "id": "64d79a8d",
   "metadata": {},
   "outputs": [
    {
     "ename": "TypeError",
     "evalue": "string indices must be integers",
     "output_type": "error",
     "traceback": [
      "\u001b[1;31m---------------------------------------------------------------------------\u001b[0m",
      "\u001b[1;31mTypeError\u001b[0m                                 Traceback (most recent call last)",
      "\u001b[1;32m~\\AppData\\Local\\Temp/ipykernel_14996/1211950492.py\u001b[0m in \u001b[0;36m<module>\u001b[1;34m\u001b[0m\n\u001b[0;32m      1\u001b[0m \u001b[1;32mfor\u001b[0m \u001b[0mstock\u001b[0m \u001b[1;32min\u001b[0m \u001b[0mtech_list\u001b[0m\u001b[1;33m:\u001b[0m\u001b[1;33m\u001b[0m\u001b[1;33m\u001b[0m\u001b[0m\n\u001b[1;32m----> 2\u001b[1;33m     \u001b[0mglobals\u001b[0m\u001b[1;33m(\u001b[0m\u001b[1;33m)\u001b[0m\u001b[1;33m[\u001b[0m\u001b[0mstock\u001b[0m\u001b[1;33m]\u001b[0m\u001b[1;33m=\u001b[0m\u001b[0mweb\u001b[0m\u001b[1;33m.\u001b[0m\u001b[0mDataReader\u001b[0m\u001b[1;33m(\u001b[0m\u001b[0mstock\u001b[0m\u001b[1;33m,\u001b[0m\u001b[1;34m'yahoo'\u001b[0m\u001b[1;33m,\u001b[0m\u001b[0mstart\u001b[0m\u001b[1;33m,\u001b[0m\u001b[0mend\u001b[0m\u001b[1;33m)\u001b[0m\u001b[1;33m\u001b[0m\u001b[1;33m\u001b[0m\u001b[0m\n\u001b[0m",
      "\u001b[1;32m~\\anaconda3\\lib\\site-packages\\pandas\\util\\_decorators.py\u001b[0m in \u001b[0;36mwrapper\u001b[1;34m(*args, **kwargs)\u001b[0m\n\u001b[0;32m    205\u001b[0m                 \u001b[1;32melse\u001b[0m\u001b[1;33m:\u001b[0m\u001b[1;33m\u001b[0m\u001b[1;33m\u001b[0m\u001b[0m\n\u001b[0;32m    206\u001b[0m                     \u001b[0mkwargs\u001b[0m\u001b[1;33m[\u001b[0m\u001b[0mnew_arg_name\u001b[0m\u001b[1;33m]\u001b[0m \u001b[1;33m=\u001b[0m \u001b[0mnew_arg_value\u001b[0m\u001b[1;33m\u001b[0m\u001b[1;33m\u001b[0m\u001b[0m\n\u001b[1;32m--> 207\u001b[1;33m             \u001b[1;32mreturn\u001b[0m \u001b[0mfunc\u001b[0m\u001b[1;33m(\u001b[0m\u001b[1;33m*\u001b[0m\u001b[0margs\u001b[0m\u001b[1;33m,\u001b[0m \u001b[1;33m**\u001b[0m\u001b[0mkwargs\u001b[0m\u001b[1;33m)\u001b[0m\u001b[1;33m\u001b[0m\u001b[1;33m\u001b[0m\u001b[0m\n\u001b[0m\u001b[0;32m    208\u001b[0m \u001b[1;33m\u001b[0m\u001b[0m\n\u001b[0;32m    209\u001b[0m         \u001b[1;32mreturn\u001b[0m \u001b[0mcast\u001b[0m\u001b[1;33m(\u001b[0m\u001b[0mF\u001b[0m\u001b[1;33m,\u001b[0m \u001b[0mwrapper\u001b[0m\u001b[1;33m)\u001b[0m\u001b[1;33m\u001b[0m\u001b[1;33m\u001b[0m\u001b[0m\n",
      "\u001b[1;32m~\\anaconda3\\lib\\site-packages\\pandas_datareader\\data.py\u001b[0m in \u001b[0;36mDataReader\u001b[1;34m(name, data_source, start, end, retry_count, pause, session, api_key)\u001b[0m\n\u001b[0;32m    368\u001b[0m \u001b[1;33m\u001b[0m\u001b[0m\n\u001b[0;32m    369\u001b[0m     \u001b[1;32mif\u001b[0m \u001b[0mdata_source\u001b[0m \u001b[1;33m==\u001b[0m \u001b[1;34m\"yahoo\"\u001b[0m\u001b[1;33m:\u001b[0m\u001b[1;33m\u001b[0m\u001b[1;33m\u001b[0m\u001b[0m\n\u001b[1;32m--> 370\u001b[1;33m         return YahooDailyReader(\n\u001b[0m\u001b[0;32m    371\u001b[0m             \u001b[0msymbols\u001b[0m\u001b[1;33m=\u001b[0m\u001b[0mname\u001b[0m\u001b[1;33m,\u001b[0m\u001b[1;33m\u001b[0m\u001b[1;33m\u001b[0m\u001b[0m\n\u001b[0;32m    372\u001b[0m             \u001b[0mstart\u001b[0m\u001b[1;33m=\u001b[0m\u001b[0mstart\u001b[0m\u001b[1;33m,\u001b[0m\u001b[1;33m\u001b[0m\u001b[1;33m\u001b[0m\u001b[0m\n",
      "\u001b[1;32m~\\anaconda3\\lib\\site-packages\\pandas_datareader\\base.py\u001b[0m in \u001b[0;36mread\u001b[1;34m(self)\u001b[0m\n\u001b[0;32m    251\u001b[0m         \u001b[1;31m# If a single symbol, (e.g., 'GOOG')\u001b[0m\u001b[1;33m\u001b[0m\u001b[1;33m\u001b[0m\u001b[0m\n\u001b[0;32m    252\u001b[0m         \u001b[1;32mif\u001b[0m \u001b[0misinstance\u001b[0m\u001b[1;33m(\u001b[0m\u001b[0mself\u001b[0m\u001b[1;33m.\u001b[0m\u001b[0msymbols\u001b[0m\u001b[1;33m,\u001b[0m \u001b[1;33m(\u001b[0m\u001b[0mstring_types\u001b[0m\u001b[1;33m,\u001b[0m \u001b[0mint\u001b[0m\u001b[1;33m)\u001b[0m\u001b[1;33m)\u001b[0m\u001b[1;33m:\u001b[0m\u001b[1;33m\u001b[0m\u001b[1;33m\u001b[0m\u001b[0m\n\u001b[1;32m--> 253\u001b[1;33m             \u001b[0mdf\u001b[0m \u001b[1;33m=\u001b[0m \u001b[0mself\u001b[0m\u001b[1;33m.\u001b[0m\u001b[0m_read_one_data\u001b[0m\u001b[1;33m(\u001b[0m\u001b[0mself\u001b[0m\u001b[1;33m.\u001b[0m\u001b[0murl\u001b[0m\u001b[1;33m,\u001b[0m \u001b[0mparams\u001b[0m\u001b[1;33m=\u001b[0m\u001b[0mself\u001b[0m\u001b[1;33m.\u001b[0m\u001b[0m_get_params\u001b[0m\u001b[1;33m(\u001b[0m\u001b[0mself\u001b[0m\u001b[1;33m.\u001b[0m\u001b[0msymbols\u001b[0m\u001b[1;33m)\u001b[0m\u001b[1;33m)\u001b[0m\u001b[1;33m\u001b[0m\u001b[1;33m\u001b[0m\u001b[0m\n\u001b[0m\u001b[0;32m    254\u001b[0m         \u001b[1;31m# Or multiple symbols, (e.g., ['GOOG', 'AAPL', 'MSFT'])\u001b[0m\u001b[1;33m\u001b[0m\u001b[1;33m\u001b[0m\u001b[0m\n\u001b[0;32m    255\u001b[0m         \u001b[1;32melif\u001b[0m \u001b[0misinstance\u001b[0m\u001b[1;33m(\u001b[0m\u001b[0mself\u001b[0m\u001b[1;33m.\u001b[0m\u001b[0msymbols\u001b[0m\u001b[1;33m,\u001b[0m \u001b[0mDataFrame\u001b[0m\u001b[1;33m)\u001b[0m\u001b[1;33m:\u001b[0m\u001b[1;33m\u001b[0m\u001b[1;33m\u001b[0m\u001b[0m\n",
      "\u001b[1;32m~\\anaconda3\\lib\\site-packages\\pandas_datareader\\yahoo\\daily.py\u001b[0m in \u001b[0;36m_read_one_data\u001b[1;34m(self, url, params)\u001b[0m\n\u001b[0;32m    151\u001b[0m         \u001b[1;32mtry\u001b[0m\u001b[1;33m:\u001b[0m\u001b[1;33m\u001b[0m\u001b[1;33m\u001b[0m\u001b[0m\n\u001b[0;32m    152\u001b[0m             \u001b[0mj\u001b[0m \u001b[1;33m=\u001b[0m \u001b[0mjson\u001b[0m\u001b[1;33m.\u001b[0m\u001b[0mloads\u001b[0m\u001b[1;33m(\u001b[0m\u001b[0mre\u001b[0m\u001b[1;33m.\u001b[0m\u001b[0msearch\u001b[0m\u001b[1;33m(\u001b[0m\u001b[0mptrn\u001b[0m\u001b[1;33m,\u001b[0m \u001b[0mresp\u001b[0m\u001b[1;33m.\u001b[0m\u001b[0mtext\u001b[0m\u001b[1;33m,\u001b[0m \u001b[0mre\u001b[0m\u001b[1;33m.\u001b[0m\u001b[0mDOTALL\u001b[0m\u001b[1;33m)\u001b[0m\u001b[1;33m.\u001b[0m\u001b[0mgroup\u001b[0m\u001b[1;33m(\u001b[0m\u001b[1;36m1\u001b[0m\u001b[1;33m)\u001b[0m\u001b[1;33m)\u001b[0m\u001b[1;33m\u001b[0m\u001b[1;33m\u001b[0m\u001b[0m\n\u001b[1;32m--> 153\u001b[1;33m             \u001b[0mdata\u001b[0m \u001b[1;33m=\u001b[0m \u001b[0mj\u001b[0m\u001b[1;33m[\u001b[0m\u001b[1;34m\"context\"\u001b[0m\u001b[1;33m]\u001b[0m\u001b[1;33m[\u001b[0m\u001b[1;34m\"dispatcher\"\u001b[0m\u001b[1;33m]\u001b[0m\u001b[1;33m[\u001b[0m\u001b[1;34m\"stores\"\u001b[0m\u001b[1;33m]\u001b[0m\u001b[1;33m[\u001b[0m\u001b[1;34m\"HistoricalPriceStore\"\u001b[0m\u001b[1;33m]\u001b[0m\u001b[1;33m\u001b[0m\u001b[1;33m\u001b[0m\u001b[0m\n\u001b[0m\u001b[0;32m    154\u001b[0m         \u001b[1;32mexcept\u001b[0m \u001b[0mKeyError\u001b[0m\u001b[1;33m:\u001b[0m\u001b[1;33m\u001b[0m\u001b[1;33m\u001b[0m\u001b[0m\n\u001b[0;32m    155\u001b[0m             \u001b[0mmsg\u001b[0m \u001b[1;33m=\u001b[0m \u001b[1;34m\"No data fetched for symbol {} using {}\"\u001b[0m\u001b[1;33m\u001b[0m\u001b[1;33m\u001b[0m\u001b[0m\n",
      "\u001b[1;31mTypeError\u001b[0m: string indices must be integers"
     ]
    }
   ],
   "source": [
    "for stock in tech_list:\n",
    "    globals()[stock]=web.DataReader(stock,'yahoo',start,end)"
   ]
  },
  {
   "cell_type": "code",
   "execution_count": 14,
   "id": "fa6fcf2c",
   "metadata": {
    "scrolled": true
   },
   "outputs": [
    {
     "ename": "NameError",
     "evalue": "name 'AMZN' is not defined",
     "output_type": "error",
     "traceback": [
      "\u001b[1;31m---------------------------------------------------------------------------\u001b[0m",
      "\u001b[1;31mNameError\u001b[0m                                 Traceback (most recent call last)",
      "\u001b[1;32m~\\AppData\\Local\\Temp/ipykernel_14996/2668716733.py\u001b[0m in \u001b[0;36m<module>\u001b[1;34m\u001b[0m\n\u001b[1;32m----> 1\u001b[1;33m \u001b[0mAMZN\u001b[0m\u001b[1;33m.\u001b[0m\u001b[0mhead\u001b[0m\u001b[1;33m(\u001b[0m\u001b[1;33m)\u001b[0m\u001b[1;33m\u001b[0m\u001b[1;33m\u001b[0m\u001b[0m\n\u001b[0m",
      "\u001b[1;31mNameError\u001b[0m: name 'AMZN' is not defined"
     ]
    }
   ],
   "source": [
    "AMZN.head()"
   ]
  },
  {
   "cell_type": "code",
   "execution_count": 15,
   "id": "84ceb8ba",
   "metadata": {},
   "outputs": [
    {
     "ename": "NameError",
     "evalue": "name 'AMZN' is not defined",
     "output_type": "error",
     "traceback": [
      "\u001b[1;31m---------------------------------------------------------------------------\u001b[0m",
      "\u001b[1;31mNameError\u001b[0m                                 Traceback (most recent call last)",
      "\u001b[1;32m~\\AppData\\Local\\Temp/ipykernel_14996/1516889141.py\u001b[0m in \u001b[0;36m<module>\u001b[1;34m\u001b[0m\n\u001b[1;32m----> 1\u001b[1;33m \u001b[0mAMZN\u001b[0m\u001b[1;33m.\u001b[0m\u001b[0mtail\u001b[0m\u001b[1;33m(\u001b[0m\u001b[1;33m)\u001b[0m\u001b[1;33m\u001b[0m\u001b[1;33m\u001b[0m\u001b[0m\n\u001b[0m",
      "\u001b[1;31mNameError\u001b[0m: name 'AMZN' is not defined"
     ]
    }
   ],
   "source": [
    "AMZN.tail()"
   ]
  },
  {
   "cell_type": "code",
   "execution_count": 16,
   "id": "8c11f512",
   "metadata": {},
   "outputs": [
    {
     "ename": "NameError",
     "evalue": "name 'AAPL' is not defined",
     "output_type": "error",
     "traceback": [
      "\u001b[1;31m---------------------------------------------------------------------------\u001b[0m",
      "\u001b[1;31mNameError\u001b[0m                                 Traceback (most recent call last)",
      "\u001b[1;32m~\\AppData\\Local\\Temp/ipykernel_14996/3411487291.py\u001b[0m in \u001b[0;36m<module>\u001b[1;34m\u001b[0m\n\u001b[1;32m----> 1\u001b[1;33m \u001b[0mAAPL\u001b[0m\u001b[1;33m[\u001b[0m\u001b[1;34m'Company'\u001b[0m\u001b[1;33m]\u001b[0m\u001b[1;33m=\u001b[0m \u001b[1;34m'Apple'\u001b[0m\u001b[1;33m\u001b[0m\u001b[1;33m\u001b[0m\u001b[0m\n\u001b[0m\u001b[0;32m      2\u001b[0m \u001b[0mGOOG\u001b[0m\u001b[1;33m[\u001b[0m\u001b[1;34m'Company'\u001b[0m\u001b[1;33m]\u001b[0m\u001b[1;33m=\u001b[0m \u001b[1;34m'Google'\u001b[0m\u001b[1;33m\u001b[0m\u001b[1;33m\u001b[0m\u001b[0m\n\u001b[0;32m      3\u001b[0m \u001b[0mAMZN\u001b[0m\u001b[1;33m[\u001b[0m\u001b[1;34m'Company'\u001b[0m\u001b[1;33m]\u001b[0m\u001b[1;33m=\u001b[0m \u001b[1;34m'Amazon'\u001b[0m\u001b[1;33m\u001b[0m\u001b[1;33m\u001b[0m\u001b[0m\n\u001b[0;32m      4\u001b[0m \u001b[0mMSFT\u001b[0m\u001b[1;33m[\u001b[0m\u001b[1;34m'Company'\u001b[0m\u001b[1;33m]\u001b[0m\u001b[1;33m=\u001b[0m \u001b[1;34m'Microsoft'\u001b[0m\u001b[1;33m\u001b[0m\u001b[1;33m\u001b[0m\u001b[0m\n",
      "\u001b[1;31mNameError\u001b[0m: name 'AAPL' is not defined"
     ]
    }
   ],
   "source": [
    "AAPL['Company']= 'Apple'\n",
    "GOOG['Company']= 'Google'\n",
    "AMZN['Company']= 'Amazon'\n",
    "MSFT['Company']= 'Microsoft'\n"
   ]
  },
  {
   "cell_type": "code",
   "execution_count": null,
   "id": "59f97f0e",
   "metadata": {},
   "outputs": [],
   "source": [
    "stocks=pd.concat([AAPL,AMZN,GOOG,MSFT])"
   ]
  },
  {
   "cell_type": "code",
   "execution_count": null,
   "id": "3b5459bc",
   "metadata": {},
   "outputs": [],
   "source": [
    "stocks.head()"
   ]
  },
  {
   "cell_type": "code",
   "execution_count": null,
   "id": "1a1dcba8",
   "metadata": {},
   "outputs": [],
   "source": [
    "stocks.info()"
   ]
  },
  {
   "cell_type": "code",
   "execution_count": null,
   "id": "5c4f93ee",
   "metadata": {},
   "outputs": [],
   "source": [
    "stocks.isna().sum()"
   ]
  },
  {
   "cell_type": "code",
   "execution_count": null,
   "id": "e9554b6c",
   "metadata": {},
   "outputs": [],
   "source": [
    "stocks.duplicat ed().sum()"
   ]
  },
  {
   "cell_type": "code",
   "execution_count": null,
   "id": "adcb14b8",
   "metadata": {
    "scrolled": true
   },
   "outputs": [],
   "source": [
    "Companies = stocks['Company'].drop_duplicates().values\n",
    "print(Companies)"
   ]
  },
  {
   "cell_type": "code",
   "execution_count": null,
   "id": "ae6c5a92",
   "metadata": {
    "scrolled": false
   },
   "outputs": [],
   "source": [
    "grouped = stocks.groupby('Company')\n",
    "fig,ax = plt.subplots()\n",
    "\n",
    "for comp in Companies :\n",
    "    stock = grouped.get_group(comp)\n",
    "    stock['Adj Close'].plot(legend=True,figsize=(14,8), ax=ax)\n",
    " \n",
    "ax.legend(Companies)\n",
    "#ax.tick_params(colors='white')\n",
    "plt.xticks(fontsize=15)\n",
    "plt.yticks(fontsize=15)\n",
    "plt.title(\"Stock Price Change\",fontsize=15)"
   ]
  },
  {
   "cell_type": "markdown",
   "id": "c73f05f0",
   "metadata": {},
   "source": [
    "#### Change in Stock's Volume to be traded over time"
   ]
  },
  {
   "cell_type": "code",
   "execution_count": null,
   "id": "837b6e34",
   "metadata": {
    "scrolled": false
   },
   "outputs": [],
   "source": [
    "fig,ax = plt.subplots()\n",
    "AMZN['Volume'].plot(legend=True,figsize=(12,5),color='orange')\n",
    "plt.title(\"AMAZON\",fontsize=15)\n",
    "#ax.tick_params(colors='white')"
   ]
  },
  {
   "cell_type": "code",
   "execution_count": null,
   "id": "91f81977",
   "metadata": {},
   "outputs": [],
   "source": [
    "fig,ax = plt.subplots()\n",
    "GOOG['Volume'].plot(legend=True,figsize=(12,5),color='green')\n",
    "plt.title(\"GOOGLE\",fontsize=15)\n",
    "#ax.tick_params(colors='white')"
   ]
  },
  {
   "cell_type": "code",
   "execution_count": null,
   "id": "d2a45885",
   "metadata": {
    "scrolled": false
   },
   "outputs": [],
   "source": [
    "fig,ax = plt.subplots()\n",
    "AAPL['Volume'].plot(legend=True,figsize=(12,5),color='blue')\n",
    "plt.title(\"APPLE\",fontsize=15)\n",
    "#ax.tick_params(colors='white')"
   ]
  },
  {
   "cell_type": "code",
   "execution_count": null,
   "id": "fc33b314",
   "metadata": {
    "scrolled": true
   },
   "outputs": [],
   "source": [
    "fig,ax = plt.subplots()\n",
    "MSFT['Volume'].plot(legend=True,figsize=(12,5),color='red')\n",
    "plt.title(\"MICROSOFT\",fontsize=15)\n",
    "#ax.tick_params(colors='white')"
   ]
  },
  {
   "cell_type": "markdown",
   "id": "63f6a395",
   "metadata": {},
   "source": [
    "INFERENCE : Volume of Trade has been declining for all the four Companies recently"
   ]
  },
  {
   "cell_type": "markdown",
   "id": "8b5a8e70",
   "metadata": {},
   "source": [
    "### Moving Average of Various Stocks"
   ]
  },
  {
   "cell_type": "code",
   "execution_count": null,
   "id": "28b781e9",
   "metadata": {},
   "outputs": [],
   "source": [
    "mov_avg=[20,50,100]\n",
    "\n",
    "for ma in mov_avg :\n",
    "    column_name=\"MA for %s days\" %(str(ma))\n",
    "    \n",
    "    AMZN[column_name]=AMZN['Adj Close'].rolling(window=ma,center=False).mean()\n",
    "    GOOG[column_name]=GOOG['Adj Close'].rolling(window=ma,center=False).mean()\n",
    "    AAPL[column_name]=AAPL['Adj Close'].rolling(window=ma,center=False).mean()\n",
    "    MSFT[column_name]=MSFT['Adj Close'].rolling(window=ma,center=False).mean()"
   ]
  },
  {
   "cell_type": "code",
   "execution_count": null,
   "id": "e5fce00d",
   "metadata": {},
   "outputs": [],
   "source": [
    "AMZN.head()"
   ]
  },
  {
   "cell_type": "code",
   "execution_count": null,
   "id": "149d3b91",
   "metadata": {},
   "outputs": [],
   "source": [
    "AMZN.tail()"
   ]
  },
  {
   "cell_type": "code",
   "execution_count": null,
   "id": "e087728a",
   "metadata": {},
   "outputs": [],
   "source": [
    "MSFT.tail()"
   ]
  },
  {
   "cell_type": "markdown",
   "id": "93587730",
   "metadata": {},
   "source": [
    "### AMAZON"
   ]
  },
  {
   "cell_type": "code",
   "execution_count": null,
   "id": "edd1e77f",
   "metadata": {
    "scrolled": false
   },
   "outputs": [],
   "source": [
    "AMZN[['Adj Close','MA for 20 days','MA for 50 days','MA for 100 days']].plot(subplots=True,figsize=(12,5))"
   ]
  },
  {
   "cell_type": "code",
   "execution_count": null,
   "id": "cd3843d8",
   "metadata": {
    "scrolled": false
   },
   "outputs": [],
   "source": [
    "AMZN[['Adj Close','MA for 20 days','MA for 50 days','MA for 100 days']].plot(subplots=False,figsize=(14,6))"
   ]
  },
  {
   "cell_type": "markdown",
   "id": "7bbe790b",
   "metadata": {},
   "source": [
    "### GOOGLE"
   ]
  },
  {
   "cell_type": "code",
   "execution_count": null,
   "id": "50a43c56",
   "metadata": {
    "scrolled": false
   },
   "outputs": [],
   "source": [
    "GOOG[['Adj Close','MA for 20 days','MA for 50 days','MA for 100 days']].plot(subplots=True,figsize=(12,5))"
   ]
  },
  {
   "cell_type": "code",
   "execution_count": null,
   "id": "1dc75bca",
   "metadata": {
    "scrolled": true
   },
   "outputs": [],
   "source": [
    "GOOG[['Adj Close','MA for 20 days','MA for 50 days','MA for 100 days']].plot(subplots=False,figsize=(14,6))"
   ]
  },
  {
   "cell_type": "markdown",
   "id": "aaea8078",
   "metadata": {},
   "source": [
    "### APPLE"
   ]
  },
  {
   "cell_type": "code",
   "execution_count": null,
   "id": "09d4b56a",
   "metadata": {},
   "outputs": [],
   "source": [
    "AAPL[['Adj Close','MA for 20 days','MA for 50 days','MA for 100 days']].plot(subplots=True,figsize=(12,5))"
   ]
  },
  {
   "cell_type": "code",
   "execution_count": null,
   "id": "2694dc9a",
   "metadata": {
    "scrolled": false
   },
   "outputs": [],
   "source": [
    "AAPL[['Adj Close','MA for 20 days','MA for 50 days','MA for 100 days']].plot(subplots=False,figsize=(14,6))"
   ]
  },
  {
   "cell_type": "markdown",
   "id": "a9310421",
   "metadata": {},
   "source": [
    "### MICROSOFT"
   ]
  },
  {
   "cell_type": "code",
   "execution_count": null,
   "id": "3efcca97",
   "metadata": {},
   "outputs": [],
   "source": [
    "MSFT[['Adj Close','MA for 20 days','MA for 50 days','MA for 100 days']].plot(subplots=True,figsize=(12,5))"
   ]
  },
  {
   "cell_type": "code",
   "execution_count": null,
   "id": "214bd3d3",
   "metadata": {},
   "outputs": [],
   "source": [
    "MSFT[['Adj Close','MA for 20 days','MA for 50 days','MA for 100 days']].plot(subplots=False,figsize=(14,6))"
   ]
  },
  {
   "cell_type": "markdown",
   "id": "e02f333e",
   "metadata": {},
   "source": [
    "#### INFERENCE : Moving average is smoother for more number of days"
   ]
  },
  {
   "cell_type": "markdown",
   "id": "bee8e1f3",
   "metadata": {},
   "source": [
    "### DAILY RETURN AVERAGE"
   ]
  },
  {
   "cell_type": "code",
   "execution_count": null,
   "id": "1fbf13a3",
   "metadata": {},
   "outputs": [],
   "source": [
    "AMZN['Daily Return']=AMZN['Adj Close'].pct_change()\n",
    "GOOG['Daily Return']=GOOG['Adj Close'].pct_change()\n",
    "AAPL['Daily Return']=AAPL['Adj Close'].pct_change()\n",
    "MSFT['Daily Return']=MSFT['Adj Close'].pct_change()"
   ]
  },
  {
   "cell_type": "code",
   "execution_count": null,
   "id": "27b07d72",
   "metadata": {},
   "outputs": [],
   "source": [
    "MSFT.tail()"
   ]
  },
  {
   "cell_type": "code",
   "execution_count": null,
   "id": "85983565",
   "metadata": {
    "scrolled": true
   },
   "outputs": [],
   "source": [
    "AMZN['Daily Return'].plot(figsize=(14,6),legend=True)\n",
    "plt.title(\"Amazon\",fontsize=15)"
   ]
  },
  {
   "cell_type": "code",
   "execution_count": null,
   "id": "04c398ce",
   "metadata": {
    "scrolled": true
   },
   "outputs": [],
   "source": [
    "GOOG['Daily Return'].plot(figsize=(14,6),legend=True)\n",
    "plt.title(\"Google\",fontsize=15)"
   ]
  },
  {
   "cell_type": "code",
   "execution_count": null,
   "id": "8c8ec99e",
   "metadata": {},
   "outputs": [],
   "source": [
    "AAPL['Daily Return'].plot(figsize=(14,6),legend=True)\n",
    "plt.title(\"Apple\",fontsize=15)"
   ]
  },
  {
   "cell_type": "code",
   "execution_count": null,
   "id": "a9aa2a2e",
   "metadata": {},
   "outputs": [],
   "source": [
    "MSFT['Daily Return'].plot(figsize=(14,6),legend=True)\n",
    "plt.title(\"MicroSoft\",fontsize=15)"
   ]
  },
  {
   "cell_type": "markdown",
   "id": "3fde2569",
   "metadata": {},
   "source": [
    "#### INFERENCE : During Feb-March all the four stocks shown high positive daily return"
   ]
  },
  {
   "cell_type": "markdown",
   "id": "70583177",
   "metadata": {},
   "source": [
    "  ### Trend \n",
    " "
   ]
  },
  {
   "cell_type": "code",
   "execution_count": null,
   "id": "fb57c1f9",
   "metadata": {},
   "outputs": [],
   "source": [
    "def trend(x):\n",
    "    if x > -0.015 and x <= 0.015:\n",
    "        return 'Slight or No change' \n",
    "    elif x > 0.015 and x <= 0.04:\n",
    "        return 'Slight Positive' \n",
    "    elif x < -0.015 and x >= -0.04:\n",
    "        return 'Slight Negative' \n",
    "    elif x > 0.04 and x <= 0.06:\n",
    "        return 'Positive' \n",
    "    elif x < -0.04 and x >= -0.06:\n",
    "        return 'Negative' \n",
    "    elif x > 0.06 and x <= 0.07:\n",
    "        return 'Among top gainers' \n",
    "    elif x < -0.06 and x >= -0.07:\n",
    "        return 'Among top losers' \n",
    "    elif x > 0.07:\n",
    "        return 'Bull run' \n",
    "    elif x <= -0.07:\n",
    "        return 'Bear drop' \n"
   ]
  },
  {
   "cell_type": "code",
   "execution_count": null,
   "id": "f358cf77",
   "metadata": {
    "scrolled": true
   },
   "outputs": [],
   "source": [
    "AMZN['Trend']= np.zeros(AMZN['Daily Return'].count()+1) \n",
    "AMZN['Trend']= AMZN['Daily Return'].apply(lambda x:trend(x))\n",
    "AMZN.tail()"
   ]
  },
  {
   "cell_type": "markdown",
   "id": "655f4c8d",
   "metadata": {},
   "source": [
    "### Visualize Trend Frequncy"
   ]
  },
  {
   "cell_type": "code",
   "execution_count": null,
   "id": "176afdf1",
   "metadata": {},
   "outputs": [],
   "source": [
    "labels = AMZN.Trend.value_counts().index\n",
    "sizes = AMZN.Trend.value_counts().values\n",
    "plt.figure(figsize=(9,9))\n",
    "plt.pie(sizes,labels=labels,autopct=\"%1.1f%%\")\n",
    "plt.title(\"Trend Frequency of Amazon\",fontsize = 16)"
   ]
  },
  {
   "cell_type": "code",
   "execution_count": null,
   "id": "fccc1120",
   "metadata": {},
   "outputs": [],
   "source": [
    "AAPL['Trend']= np.zeros(AAPL['Daily Return'].count()+1) \n",
    "AAPL['Trend']= AAPL['Daily Return'].apply(lambda x:trend(x))\n",
    "AAPL.tail()"
   ]
  },
  {
   "cell_type": "code",
   "execution_count": null,
   "id": "d38e2a2b",
   "metadata": {},
   "outputs": [],
   "source": [
    "labels = AAPL.Trend.value_counts().index\n",
    "sizes = AAPL.Trend.value_counts().values\n",
    "plt.figure(figsize=(9,9))\n",
    "plt.pie(sizes,labels=labels,autopct=\"%1.1f%%\")\n",
    "plt.title(\"Trend Frequency of Apple\",fontsize = 16)"
   ]
  },
  {
   "cell_type": "markdown",
   "id": "af22f6db",
   "metadata": {},
   "source": [
    "#### INFERENCE : For majority of time both stocks have shown 'Slight or No Change',Amazon was among top gainers for 0.8% while Apple for 0.4% only"
   ]
  },
  {
   "cell_type": "markdown",
   "id": "9985c007",
   "metadata": {},
   "source": [
    "### Co-relation between Daily return of Stocks"
   ]
  },
  {
   "cell_type": "code",
   "execution_count": null,
   "id": "93c5559e",
   "metadata": {},
   "outputs": [],
   "source": [
    "Adj_C = pd.concat([AAPL['Adj Close'],GOOG['Adj Close'],AMZN['Adj Close'],MSFT['Adj Close']], axis =1)\n",
    "Adj_C.columns=['APPLE','GOOGLE','AMAZON','MICROSOFT']\n",
    "Adj_C"
   ]
  },
  {
   "cell_type": "code",
   "execution_count": null,
   "id": "905058b7",
   "metadata": {},
   "outputs": [],
   "source": [
    "pct_change = Adj_C.pct_change()\n",
    "pct_change"
   ]
  },
  {
   "cell_type": "code",
   "execution_count": null,
   "id": "a9cb758b",
   "metadata": {},
   "outputs": [],
   "source": [
    "fig,ax= plt.subplots(figsize=(10,5))\n",
    "sns.heatmap(pct_change.corr(),annot=True,linecolor='black',linewidth=0.5,ax=ax)"
   ]
  },
  {
   "cell_type": "markdown",
   "id": "d401425e",
   "metadata": {},
   "source": [
    "#### INFERENCE : Among following Microsoft and Google have highest Correaltion and all the four companies are positively Correlated"
   ]
  },
  {
   "cell_type": "code",
   "execution_count": null,
   "id": "60b72dad",
   "metadata": {},
   "outputs": [],
   "source": []
  },
  {
   "cell_type": "code",
   "execution_count": null,
   "id": "fd87fb63",
   "metadata": {},
   "outputs": [],
   "source": []
  }
 ],
 "metadata": {
  "kernelspec": {
   "display_name": "Python 3 (ipykernel)",
   "language": "python",
   "name": "python3"
  },
  "language_info": {
   "codemirror_mode": {
    "name": "ipython",
    "version": 3
   },
   "file_extension": ".py",
   "mimetype": "text/x-python",
   "name": "python",
   "nbconvert_exporter": "python",
   "pygments_lexer": "ipython3",
   "version": "3.9.7"
  }
 },
 "nbformat": 4,
 "nbformat_minor": 5
}
